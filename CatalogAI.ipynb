{
  "cells": [
    {
      "cell_type": "markdown",
      "metadata": {
        "id": "view-in-github",
        "colab_type": "text"
      },
      "source": [
        "<a href=\"https://colab.research.google.com/github/oAlanSchmitt/CatalogAI/blob/main/CatalogAI.ipynb\" target=\"_parent\"><img src=\"https://colab.research.google.com/assets/colab-badge.svg\" alt=\"Open In Colab\"/></a>"
      ]
    },
    {
      "cell_type": "markdown",
      "metadata": {
        "id": "Dz4viyPYGB7i"
      },
      "source": [
        "INSTALAÇÃO DO SDK"
      ]
    },
    {
      "cell_type": "code",
      "execution_count": null,
      "metadata": {
        "id": "lPEhRZSzFdIa"
      },
      "outputs": [],
      "source": [
        "!pip install -q -U google-generativeai"
      ]
    },
    {
      "cell_type": "markdown",
      "metadata": {
        "id": "9onzFm8biji3"
      },
      "source": []
    },
    {
      "cell_type": "markdown",
      "metadata": {
        "id": "s-pbGqfTis2f"
      },
      "source": [
        "IMPORTANDO BIBLIOTECAS"
      ]
    },
    {
      "cell_type": "code",
      "execution_count": null,
      "metadata": {
        "id": "yUA35-dTZQ5x"
      },
      "outputs": [],
      "source": [
        "import pathlib\n",
        "import textwrap\n",
        "from IPython.display import display\n",
        "from IPython.display import Markdown\n",
        "import google.generativeai as genai"
      ]
    },
    {
      "cell_type": "markdown",
      "metadata": {
        "id": "zA25LdOoi1Vi"
      },
      "source": [
        "CONFIGURAÇÃO DA API_KEY"
      ]
    },
    {
      "cell_type": "code",
      "execution_count": null,
      "metadata": {
        "id": "pOGNqOU9i568"
      },
      "outputs": [],
      "source": [
        "from google.colab import userdata\n",
        "api_key = userdata.get('SECRET_KEY')\n",
        "genai.configure(api_key=api_key)"
      ]
    },
    {
      "cell_type": "markdown",
      "metadata": {
        "id": "eZ_3_He2jAVt"
      },
      "source": [
        "CONFIGURAÇÕS DO MODELO"
      ]
    },
    {
      "cell_type": "code",
      "execution_count": 85,
      "metadata": {
        "id": "22xxF9dojJ4N"
      },
      "outputs": [],
      "source": [
        "# Configurando a acertividade do modelo\n",
        "generation_config = {\n",
        "  \"candidate_count\": 1,\n",
        "  \"temperature\": 0.5,\n",
        "}\n",
        "\n",
        "safety_settings={\n",
        "    'HATE': 'BLOCK_NONE',\n",
        "    'HARASSMENT': 'BLOCK_NONE',\n",
        "    'SEXUAL' : 'BLOCK_NONE',\n",
        "    'DANGEROUS' : 'BLOCK_NONE'\n",
        "    }\n",
        "\n",
        "# Inicializando o modelo. Vamos utilizar o modelo 'gemini-1.0-pro', por isso não listei todos aqui no código.\n",
        "model = genai.GenerativeModel(model_name='gemini-1.0-pro',\n",
        "                                  generation_config=generation_config,\n",
        "                                  safety_settings=safety_settings,)\n",
        "\n",
        "system_instruction = 'Você só pode recomendar Animes, Series e Filmes. O Conteudo recomendado não pode ser igual ao valor descrito na informação. Jogos e outros tipos de entretenimento estão proibidos. Sua Função: recomendar filme, serie, anime com base nos inputes do usuário. Informação: The Walking Dead, Guerra mundial Z, Zumbilandia, Resposta: Serie:All of us are dead \\nSinopse: All of Us Are Dead é uma série sul-coreana da Netflix que conta a história de um grupo de estudantes do ensino médio que ficam presos numa escola enquanto um vírus zumbi se espalha. Os alunos têm de lutar para sobreviver sem comida, água ou comunicação, e para não se transformarem em zumbis. \\nNota: 8.  '"
      ]
    },
    {
      "cell_type": "markdown",
      "metadata": {
        "id": "DxKvFGy4liex"
      },
      "source": [
        "DESENVOLVIMENTO DO MODELO"
      ]
    },
    {
      "cell_type": "code",
      "execution_count": 93,
      "metadata": {
        "id": "5Kai0xr1c0FI",
        "colab": {
          "base_uri": "https://localhost:8080/",
          "height": 243
        },
        "outputId": "0e855390-503c-4cbd-da23-bf9b05a02bf6"
      },
      "outputs": [
        {
          "output_type": "display_data",
          "data": {
            "text/plain": [
              "<IPython.core.display.Markdown object>"
            ],
            "text/markdown": "##**Olá, eu sou o CatalogAI**"
          },
          "metadata": {}
        },
        {
          "output_type": "display_data",
          "data": {
            "text/plain": [
              "<IPython.core.display.Markdown object>"
            ],
            "text/markdown": "###*Para começar, responda: *"
          },
          "metadata": {}
        },
        {
          "output_type": "stream",
          "name": "stdout",
          "text": [
            "Filme/Anime 1: Madagascar\n",
            "Filme/Anime 2: Shrek\n",
            "Filme/Anime 3: Gato de Botas\n",
            "\n",
            "Filme: Meu Malvado Favorito\n",
            "Sinopse: Meu Malvado Favorito é um filme de animação da Universal Pictures que conta a história de Gru, um supervilão que planeia roubar a Lua. No entanto, os seus planos são frustrados por três órfãs, Margo, Edith e Agnes, que ele acaba por adotar. Juntos, eles formam uma família pouco convencional e aprendem a importância do amor e da amizade.\n",
            "Nota: 7,5.\n"
          ]
        }
      ],
      "source": [
        "chat = model.start_chat(history = [])\n",
        "\n",
        "# Mensagem inicial.\n",
        "display(Markdown(\"##**Olá, eu sou o CatalogAI**\"))\n",
        "display(Markdown(\"###*Para começar, responda: *\"))\n",
        "\n",
        "# Perguntas.\n",
        "ip1 = input('Filme/Anime 1: ')\n",
        "ip2 = input('Filme/Anime 2: ')\n",
        "ip3 = input('Filme/Anime 3: ')\n",
        "\n",
        "# Encaminhando as informações para o modelo trabalhar.\n",
        "prompt = f'Informação: {ip1}, {ip2}, {ip3}.' '\\n' 'Resposta: '\n",
        "\n",
        "# Gerando resposta com base nas informações especificadas pelo usuário + parametros do sistema definidos anteriormente.\n",
        "response = chat.send_message(system_instruction + prompt)\n",
        "print('')\n",
        "print(response.text.replace('*', ''))\n",
        "\n",
        "\n",
        "\n",
        "\n",
        "\n",
        "\n"
      ]
    }
  ],
  "metadata": {
    "colab": {
      "provenance": [],
      "authorship_tag": "ABX9TyMAVSJLT9qV6f0+Nm/Nf+jd",
      "include_colab_link": true
    },
    "kernelspec": {
      "display_name": "Python 3",
      "name": "python3"
    },
    "language_info": {
      "name": "python"
    }
  },
  "nbformat": 4,
  "nbformat_minor": 0
}