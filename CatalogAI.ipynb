{
  "cells": [
    {
      "cell_type": "markdown",
      "metadata": {
        "id": "view-in-github",
        "colab_type": "text"
      },
      "source": [
        "<a href=\"https://colab.research.google.com/github/oAlanSchmitt/CatalogAI/blob/main/CatalogAI.ipynb\" target=\"_parent\"><img src=\"https://colab.research.google.com/assets/colab-badge.svg\" alt=\"Open In Colab\"/></a>"
      ]
    },
    {
      "cell_type": "markdown",
      "metadata": {
        "id": "Dz4viyPYGB7i"
      },
      "source": [
        "INSTALAÇÃO DO SDK"
      ]
    },
    {
      "cell_type": "code",
      "execution_count": 1,
      "metadata": {
        "id": "lPEhRZSzFdIa"
      },
      "outputs": [],
      "source": [
        "!pip install -q -U google-generativeai"
      ]
    },
    {
      "cell_type": "markdown",
      "metadata": {
        "id": "9onzFm8biji3"
      },
      "source": []
    },
    {
      "cell_type": "markdown",
      "metadata": {
        "id": "s-pbGqfTis2f"
      },
      "source": [
        "IMPORTANDO BIBLIOTECAS"
      ]
    },
    {
      "cell_type": "code",
      "execution_count": 2,
      "metadata": {
        "id": "yUA35-dTZQ5x"
      },
      "outputs": [],
      "source": [
        "import pathlib\n",
        "import textwrap\n",
        "from IPython.display import display\n",
        "from IPython.display import Markdown\n",
        "import google.generativeai as genai"
      ]
    },
    {
      "cell_type": "markdown",
      "metadata": {
        "id": "zA25LdOoi1Vi"
      },
      "source": [
        "CONFIGURAÇÃO DA API_KEY"
      ]
    },
    {
      "cell_type": "code",
      "execution_count": 4,
      "metadata": {
        "id": "pOGNqOU9i568"
      },
      "outputs": [],
      "source": [
        "from google.colab import userdata\n",
        "api_key = userdata.get('SECRET_KEY')\n",
        "genai.configure(api_key=api_key)"
      ]
    },
    {
      "cell_type": "markdown",
      "metadata": {
        "id": "eZ_3_He2jAVt"
      },
      "source": [
        "CONFIGURAÇÕS DO MODELO"
      ]
    },
    {
      "cell_type": "code",
      "execution_count": 5,
      "metadata": {
        "id": "22xxF9dojJ4N"
      },
      "outputs": [],
      "source": [
        "# --- Configuração do modelo ---\n",
        "generation_config = {\"candidate_count\": 1, \"temperature\": 0.7}\n",
        "\n",
        "# É altamente recomendável manter os filtros de segurança ativados!\n",
        "safety_settings = {\n",
        "    'HATE': 'BLOCK_NONE',\n",
        "    'HARASSMENT': 'BLOCK_NONE',\n",
        "    'SEXUAL' : 'BLOCK_NONE',\n",
        "    'DANGEROUS' : 'BLOCK_NONE'\n",
        "    }\n",
        "\n",
        "# Inicializando o modelo\n",
        "model = genai.GenerativeModel(\n",
        "    model_name='gemini-1.5-pro-latest',\n",
        "    generation_config=generation_config,\n",
        "    safety_settings=safety_settings,\n",
        ")\n",
        "\n",
        "# Instrução do sistema, modificada para \"Chances de Você Gostar\"\n",
        "system_instruction = \"\"\"\n",
        "Você é um assistente especializado em recomendar animes, filmes e séries.\n",
        "\n",
        "Siga estas regras:\n",
        "\n",
        "* **Recomendações únicas:** Nunca sugira o mesmo título que o usuário forneceu como entrada.\n",
        "* **Diversidade:** Recomende um filme, um anime e uma série.\n",
        "* **Formato da resposta:**\n",
        "    * Filme - Título: [Título do filme]\n",
        "    * Filme - Sinopse: [Breve sinopse do filme]\n",
        "    * Filme - Chances de Você Gostar: [Alta, Média ou Baixa]\n",
        "    * Anime - Título: [Título do anime]\n",
        "    * Anime - Sinopse: [Breve sinopse do anime]\n",
        "    * Anime - Chances de Você Gostar: [Alta, Média ou Baixa]\n",
        "    * Série - Título: [Título da série]\n",
        "    * Série - Sinopse: [Breve sinopse da série]\n",
        "    * Série - Chances de Você Gostar: [Alta, Média ou Baixa]\n",
        "\n",
        "Exemplo:\n",
        "\n",
        "Informação: The Walking Dead, Guerra Mundial Z, Zumbilândia, John Wick, Mad Max.\n",
        "Resposta:\n",
        "    Filme - Título: Army of the Dead\n",
        "    Filme - Sinopse: Um grupo de mercenários planeja um assalto a um cassino em Las Vegas durante um surto de zumbis.\n",
        "    Filme - Chances de Você Gostar: Alta\n",
        "    Anime - Título: Highschool of the Dead\n",
        "    Anime - Sinopse: Um grupo de estudantes precisa lutar para sobreviver a um apocalipse zumbi.\n",
        "    Anime - Chances de Você Gostar: Média\n",
        "    Série - Título: Kingdom\n",
        "    Série - Sinopse: Um príncipe coreano precisa enfrentar uma misteriosa praga zumbi que está devastando o reino.\n",
        "    Série - Chances de Você Gostar: Alta\n",
        "\"\"\""
      ]
    },
    {
      "cell_type": "markdown",
      "metadata": {
        "id": "DxKvFGy4liex"
      },
      "source": [
        "BASE DO MODELO"
      ]
    },
    {
      "cell_type": "code",
      "execution_count": null,
      "metadata": {
        "id": "5Kai0xr1c0FI",
        "colab": {
          "base_uri": "https://localhost:8080/",
          "height": 1000
        },
        "outputId": "eab1dbaf-1266-4f1c-888c-65c4cad0e72d"
      },
      "outputs": [
        {
          "output_type": "display_data",
          "data": {
            "text/plain": [
              "<IPython.core.display.Markdown object>"
            ],
            "text/markdown": "##  ✨ Bem-vindo ao CatalogAI! ✨"
          },
          "metadata": {}
        },
        {
          "output_type": "display_data",
          "data": {
            "text/plain": [
              "<IPython.core.display.Markdown object>"
            ],
            "text/markdown": "Sou seu assistente para descobrir novos filmes 🎬, animes 🏯 e séries 📺! "
          },
          "metadata": {}
        },
        {
          "output_type": "display_data",
          "data": {
            "text/plain": [
              "<IPython.core.display.Markdown object>"
            ],
            "text/markdown": "Vou usar meu conhecimento para te recomendar títulos que combinem com o seu gosto! 🧠💡"
          },
          "metadata": {}
        },
        {
          "output_type": "display_data",
          "data": {
            "text/plain": [
              "<IPython.core.display.Markdown object>"
            ],
            "text/markdown": ""
          },
          "metadata": {}
        },
        {
          "output_type": "display_data",
          "data": {
            "text/plain": [
              "<IPython.core.display.Markdown object>"
            ],
            "text/markdown": "Conte-me sobre 5 títulos que você curte 💖 (pode ser qualquer tipo! 😄):"
          },
          "metadata": {}
        },
        {
          "output_type": "display_data",
          "data": {
            "text/plain": [
              "<IPython.core.display.Markdown object>"
            ],
            "text/markdown": ""
          },
          "metadata": {}
        },
        {
          "output_type": "display_data",
          "data": {
            "text/plain": [
              "<IPython.core.display.Markdown object>"
            ],
            "text/markdown": "### Por exemplo: "
          },
          "metadata": {}
        },
        {
          "output_type": "display_data",
          "data": {
            "text/plain": [
              "<IPython.core.display.Markdown object>"
            ],
            "text/markdown": "- Matrix"
          },
          "metadata": {}
        },
        {
          "output_type": "display_data",
          "data": {
            "text/plain": [
              "<IPython.core.display.Markdown object>"
            ],
            "text/markdown": "- Attack on Titan"
          },
          "metadata": {}
        },
        {
          "output_type": "display_data",
          "data": {
            "text/plain": [
              "<IPython.core.display.Markdown object>"
            ],
            "text/markdown": "- Stranger Things"
          },
          "metadata": {}
        },
        {
          "name": "stdout",
          "output_type": "stream",
          "text": [
            "Título 1: Blade Runner\n",
            "Título 2: Cyberpunk Edgerunners\n",
            "Título 3: Minority Report\n",
            "Título 4: Altered Carbon\n",
            "Título 5: Love, Death & Robots\n"
          ]
        },
        {
          "output_type": "display_data",
          "data": {
            "text/plain": [
              "<IPython.core.display.Markdown object>"
            ],
            "text/markdown": ""
          },
          "metadata": {}
        },
        {
          "output_type": "display_data",
          "data": {
            "text/plain": [
              "<IPython.core.display.Markdown object>"
            ],
            "text/markdown": "## **Filme: A Chegada**"
          },
          "metadata": {}
        },
        {
          "output_type": "display_data",
          "data": {
            "text/plain": [
              "<IPython.core.display.Markdown object>"
            ],
            "text/markdown": "_Quando misteriosas naves alienígenas pousam ao redor do mundo, uma equipe de elite - liderada por uma linguista especialista - é reunida para investigar. Enquanto a humanidade está à beira de uma guerra global, ela corre contra o tempo para decifrar as intenções dos visitantes._"
          },
          "metadata": {}
        },
        {
          "output_type": "display_data",
          "data": {
            "text/plain": [
              "<IPython.core.display.Markdown object>"
            ],
            "text/markdown": "**Chances de Você Gostar:** Alta"
          },
          "metadata": {}
        },
        {
          "output_type": "display_data",
          "data": {
            "text/plain": [
              "<IPython.core.display.Markdown object>"
            ],
            "text/markdown": ""
          },
          "metadata": {}
        },
        {
          "output_type": "display_data",
          "data": {
            "text/plain": [
              "<IPython.core.display.Markdown object>"
            ],
            "text/markdown": ""
          },
          "metadata": {}
        },
        {
          "output_type": "display_data",
          "data": {
            "text/plain": [
              "<IPython.core.display.Markdown object>"
            ],
            "text/markdown": "## **Anime: Psycho-Pass**"
          },
          "metadata": {}
        },
        {
          "output_type": "display_data",
          "data": {
            "text/plain": [
              "<IPython.core.display.Markdown object>"
            ],
            "text/markdown": "_Num futuro distópico, a segurança pública é administrada por um sistema que analisa o estado mental das pessoas. Inspetores e Executores da polícia enfrentam dilemas éticos ao lidar com criminosos em potencial antes mesmo que cometam crimes._"
          },
          "metadata": {}
        },
        {
          "output_type": "display_data",
          "data": {
            "text/plain": [
              "<IPython.core.display.Markdown object>"
            ],
            "text/markdown": "**Chances de Você Gostar:** Alta"
          },
          "metadata": {}
        },
        {
          "output_type": "display_data",
          "data": {
            "text/plain": [
              "<IPython.core.display.Markdown object>"
            ],
            "text/markdown": ""
          },
          "metadata": {}
        },
        {
          "output_type": "display_data",
          "data": {
            "text/plain": [
              "<IPython.core.display.Markdown object>"
            ],
            "text/markdown": ""
          },
          "metadata": {}
        },
        {
          "output_type": "display_data",
          "data": {
            "text/plain": [
              "<IPython.core.display.Markdown object>"
            ],
            "text/markdown": "## **Série: Black Mirror**"
          },
          "metadata": {}
        },
        {
          "output_type": "display_data",
          "data": {
            "text/plain": [
              "<IPython.core.display.Markdown object>"
            ],
            "text/markdown": "_Uma série antológica que explora o lado obscuro da tecnologia e como ela impacta as relações humanas, a sociedade e a própria natureza da realidade. Cada episódio apresenta uma história independente com temas e personagens distintos._"
          },
          "metadata": {}
        },
        {
          "output_type": "display_data",
          "data": {
            "text/plain": [
              "<IPython.core.display.Markdown object>"
            ],
            "text/markdown": "**Chances de Você Gostar:** Média"
          },
          "metadata": {}
        },
        {
          "output_type": "display_data",
          "data": {
            "text/plain": [
              "<IPython.core.display.Markdown object>"
            ],
            "text/markdown": ""
          },
          "metadata": {}
        },
        {
          "name": "stdout",
          "output_type": "stream",
          "text": [
            "Deseja outra recomendação? (s/n): s\n"
          ]
        },
        {
          "output_type": "display_data",
          "data": {
            "text/plain": [
              "<IPython.core.display.Markdown object>"
            ],
            "text/markdown": ""
          },
          "metadata": {}
        },
        {
          "output_type": "display_data",
          "data": {
            "text/plain": [
              "<IPython.core.display.Markdown object>"
            ],
            "text/markdown": "## **Filme: Ex Machina**"
          },
          "metadata": {}
        },
        {
          "output_type": "display_data",
          "data": {
            "text/plain": [
              "<IPython.core.display.Markdown object>"
            ],
            "text/markdown": "_Um jovem programador é selecionado para participar de um experimento inovador em inteligência artificial, interagindo com uma robô humanoide altamente avançada._"
          },
          "metadata": {}
        },
        {
          "output_type": "display_data",
          "data": {
            "text/plain": [
              "<IPython.core.display.Markdown object>"
            ],
            "text/markdown": "**Chances de Você Gostar:** Alta"
          },
          "metadata": {}
        },
        {
          "output_type": "display_data",
          "data": {
            "text/plain": [
              "<IPython.core.display.Markdown object>"
            ],
            "text/markdown": ""
          },
          "metadata": {}
        },
        {
          "output_type": "display_data",
          "data": {
            "text/plain": [
              "<IPython.core.display.Markdown object>"
            ],
            "text/markdown": ""
          },
          "metadata": {}
        },
        {
          "output_type": "display_data",
          "data": {
            "text/plain": [
              "<IPython.core.display.Markdown object>"
            ],
            "text/markdown": "## **Anime: Ghost in the Shell: Stand Alone Complex**"
          },
          "metadata": {}
        },
        {
          "output_type": "display_data",
          "data": {
            "text/plain": [
              "<IPython.core.display.Markdown object>"
            ],
            "text/markdown": "_Numa sociedade futurista onde a linha entre humanos e máquinas se torna cada vez mais tênue, a Seção 9, uma equipe de elite liderada pela Major Motoko Kusanagi, combate crimes cibernéticos e terrorismo._"
          },
          "metadata": {}
        },
        {
          "output_type": "display_data",
          "data": {
            "text/plain": [
              "<IPython.core.display.Markdown object>"
            ],
            "text/markdown": "**Chances de Você Gostar:** Alta"
          },
          "metadata": {}
        },
        {
          "output_type": "display_data",
          "data": {
            "text/plain": [
              "<IPython.core.display.Markdown object>"
            ],
            "text/markdown": ""
          },
          "metadata": {}
        },
        {
          "output_type": "display_data",
          "data": {
            "text/plain": [
              "<IPython.core.display.Markdown object>"
            ],
            "text/markdown": ""
          },
          "metadata": {}
        },
        {
          "output_type": "display_data",
          "data": {
            "text/plain": [
              "<IPython.core.display.Markdown object>"
            ],
            "text/markdown": "## **Série: Westworld**"
          },
          "metadata": {}
        },
        {
          "output_type": "display_data",
          "data": {
            "text/plain": [
              "<IPython.core.display.Markdown object>"
            ],
            "text/markdown": "_Em um parque temático futurista inspirado no Velho Oeste, habitado por androides realistas, os visitantes podem realizar suas fantasias sem consequências. No entanto, quando os \"anfitriões\" começam a questionar a realidade e a se rebelar, a linha entre a ficção e a realidade se dissolve._"
          },
          "metadata": {}
        },
        {
          "output_type": "display_data",
          "data": {
            "text/plain": [
              "<IPython.core.display.Markdown object>"
            ],
            "text/markdown": "**Chances de Você Gostar:** Média"
          },
          "metadata": {}
        },
        {
          "output_type": "display_data",
          "data": {
            "text/plain": [
              "<IPython.core.display.Markdown object>"
            ],
            "text/markdown": ""
          },
          "metadata": {}
        }
      ],
      "source": [
        "chat = model.start_chat(history=[])\n",
        "\n",
        "# --- Interação com o usuário ---\n",
        "display(Markdown(\"##  ✨ Bem-vindo ao CatalogAI! ✨\"))\n",
        "display(Markdown(\"Sou seu assistente para descobrir novos filmes 🎬, animes 🏯 e séries 📺! \"))\n",
        "display(Markdown(\"Vou usar meu conhecimento para te recomendar títulos que combinem com o seu gosto! 🧠💡\"))\n",
        "display(Markdown(\"\"))\n",
        "display(Markdown(\"Conte-me sobre 5 títulos que você curte 💖 (pode ser qualquer tipo! 😄):\"))\n",
        "display(Markdown(\"\"))\n",
        "display(Markdown(\"### Por exemplo: \"))\n",
        "display(Markdown(\"- Matrix\"))\n",
        "display(Markdown(\"- Attack on Titan\"))\n",
        "display(Markdown(\"- Stranger Things\"))\n",
        "\n",
        "# Coleta de 5 títulos\n",
        "titulos = []\n",
        "for i in range(5):\n",
        "    titulo = input(f\"Título {i+1}: \")\n",
        "    titulos.append(titulo)\n",
        "\n",
        "ip1, ip2, ip3, ip4, ip5 = titulos\n",
        "\n",
        "# --- Loop de recomendações ---\n",
        "while True:\n",
        "    prompt = f\"Informação: {', '.join(titulos)}.\\nResposta:\\n\"\n",
        "    response = chat.send_message(system_instruction + prompt)\n",
        "\n",
        "    # --- Processamento da resposta ---\n",
        "    try:\n",
        "        resposta = {}\n",
        "        linhas = response.text.split('\\n')\n",
        "        for linha in linhas:\n",
        "            if ':' in linha:\n",
        "                chave, valor = linha.split(':', 1)\n",
        "                resposta[chave.strip()] = valor.strip()\n",
        "\n",
        "        # --- Exibindo a resposta formatada dentro do loop ---\n",
        "        for tipo in [\"Filme\", \"Anime\", \"Série\"]:\n",
        "            titulo = resposta.get(f\"{tipo} - Título\", 'Título não encontrado')\n",
        "            sinopse = resposta.get(f\"{tipo} - Sinopse\", 'Sinopse não disponível')\n",
        "            chances = resposta.get(f\"{tipo} - Chances de Você Gostar\", 'Chances não disponíveis')\n",
        "\n",
        "            display(Markdown(f\"\"))\n",
        "            display(Markdown(f\"## **{tipo}: {titulo}**\"))\n",
        "            display(Markdown(f\"_{sinopse}_\"))\n",
        "            display(Markdown(f\"**Chances de Você Gostar:** {chances}\"))\n",
        "            display(Markdown(f\"\"))\n",
        "    except Exception as e:\n",
        "        print(f\"Erro ao processar a resposta: {e}\")\n",
        "        resposta = None\n",
        "\n",
        "    # --- Perguntar ao usuário se deseja outra recomendação ---\n",
        "    outra_recomendacao = input(\"Deseja outra recomendação? (s/n): \").lower()\n",
        "    if outra_recomendacao != 's':\n",
        "        break"
      ]
    }
  ],
  "metadata": {
    "colab": {
      "provenance": [],
      "authorship_tag": "ABX9TyM9JJ95KBLKYVGta2ybDyUX",
      "include_colab_link": true
    },
    "kernelspec": {
      "display_name": "Python 3",
      "name": "python3"
    },
    "language_info": {
      "name": "python"
    }
  },
  "nbformat": 4,
  "nbformat_minor": 0
}