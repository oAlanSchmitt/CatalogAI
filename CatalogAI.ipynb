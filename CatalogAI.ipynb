{
  "cells": [
    {
      "cell_type": "markdown",
      "metadata": {
        "id": "view-in-github",
        "colab_type": "text"
      },
      "source": [
        "<a href=\"https://colab.research.google.com/github/oAlanSchmitt/CatalogAI/blob/main/CatalogAI.ipynb\" target=\"_parent\"><img src=\"https://colab.research.google.com/assets/colab-badge.svg\" alt=\"Open In Colab\"/></a>"
      ]
    },
    {
      "cell_type": "markdown",
      "metadata": {
        "id": "Dz4viyPYGB7i"
      },
      "source": [
        "INSTALAÇÃO DO SDK"
      ]
    },
    {
      "cell_type": "code",
      "execution_count": 1,
      "metadata": {
        "id": "lPEhRZSzFdIa"
      },
      "outputs": [],
      "source": [
        "!pip install -q -U google-generativeai"
      ]
    },
    {
      "cell_type": "markdown",
      "metadata": {
        "id": "9onzFm8biji3"
      },
      "source": []
    },
    {
      "cell_type": "markdown",
      "metadata": {
        "id": "s-pbGqfTis2f"
      },
      "source": [
        "IMPORTANDO BIBLIOTECAS"
      ]
    },
    {
      "cell_type": "code",
      "execution_count": 28,
      "metadata": {
        "id": "yUA35-dTZQ5x"
      },
      "outputs": [],
      "source": [
        "import pathlib\n",
        "import textwrap\n",
        "import json\n",
        "from IPython.display import display\n",
        "from IPython.display import Markdown\n",
        "import google.generativeai as genai"
      ]
    },
    {
      "cell_type": "markdown",
      "metadata": {
        "id": "zA25LdOoi1Vi"
      },
      "source": [
        "CONFIGURAÇÃO DA API_KEY"
      ]
    },
    {
      "cell_type": "code",
      "execution_count": 4,
      "metadata": {
        "id": "pOGNqOU9i568"
      },
      "outputs": [],
      "source": [
        "from google.colab import userdata\n",
        "api_key = userdata.get('SECRET_KEY')\n",
        "genai.configure(api_key=api_key)"
      ]
    },
    {
      "cell_type": "markdown",
      "metadata": {
        "id": "eZ_3_He2jAVt"
      },
      "source": [
        "CONFIGURAÇÕS DO MODELO"
      ]
    },
    {
      "cell_type": "code",
      "execution_count": 35,
      "metadata": {
        "id": "22xxF9dojJ4N"
      },
      "outputs": [],
      "source": [
        "# --- Configuração do modelo ---\n",
        "generation_config = {\"candidate_count\": 1, \"temperature\": 0.7}\n",
        "\n",
        "# É altamente recomendável manter os filtros de segurança ativados!\n",
        "safety_settings = {\n",
        "    'HATE': 'BLOCK_NONE',\n",
        "    'HARASSMENT': 'BLOCK_NONE',\n",
        "    'SEXUAL' : 'BLOCK_NONE',\n",
        "    'DANGEROUS' : 'BLOCK_NONE'\n",
        "    }\n",
        "\n",
        "# Inicializando o modelo\n",
        "model = genai.GenerativeModel(\n",
        "    model_name='gemini-1.5-pro-latest',\n",
        "    generation_config=generation_config,\n",
        "    safety_settings=safety_settings,\n",
        ")\n",
        "\n",
        "# --- Instruções do sistema ---\n",
        "\n",
        "# Instrução para identificar o gênero\n",
        "identificar_genero_instruction = \"\"\"\n",
        "Você é um especialista em filmes, animes e séries.\n",
        "\n",
        "Sua tarefa é identificar o gênero predominante em uma lista de títulos.\n",
        "\n",
        "Responda apenas com o nome do gênero.\n",
        "\n",
        "Por exemplo:\n",
        "\n",
        "Títulos: The Walking Dead, Guerra Mundial Z, Zumbilândia\n",
        "Gênero: Terror\n",
        "\"\"\"\n",
        "\n",
        "# Instrução para recomendar títulos\n",
        "recomendar_instruction = \"\"\"\n",
        "Você é um assistente especializado em recomendar animes, filmes e séries.\n",
        "\n",
        "Siga estas regras:\n",
        "\n",
        "* **Recomendações únicas:** Nunca sugira o mesmo título que o usuário forneceu como entrada.\n",
        "* **Diversidade:** Recomende um filme, um anime e uma série, um de cada.\n",
        "* **Formato da resposta:** Separe as recomendações com \"===\" e use o seguinte formato para cada recomendação:\n",
        "    * Tipo: [Filme, Anime ou Série]\n",
        "    * Título: [Título]\n",
        "    * Sinopse: [Breve sinopse]\n",
        "    * Chances de Você Gostar: [Alta, Média ou Baixa]\n",
        "\n",
        "Exemplo:\n",
        "\n",
        "Informação: The Walking Dead, Guerra Mundial Z, Zumbilândia, John Wick, Mad Max\n",
        "Resposta:\n",
        "===\n",
        "Tipo: Filme\n",
        "Título: Army of the Dead\n",
        "Sinopse: Um grupo de mercenários planeja um assalto a um cassino em Las Vegas durante um surto de zumbis.\n",
        "Chances de Você Gostar: Alta\n",
        "===\n",
        "Tipo: Anime\n",
        "Título: Highschool of the Dead\n",
        "Sinopse: Um grupo de estudantes precisa lutar para sobreviver a um apocalipse zumbi.\n",
        "Chances de Você Gostar: Média\n",
        "===\n",
        "Tipo: Série\n",
        "Título: Kingdom\n",
        "Sinopse: Um príncipe coreano precisa enfrentar uma misteriosa praga zumbi que está devastando o reino.\n",
        "Chances de Você Gostar: Alta\n",
        "\"\"\""
      ]
    },
    {
      "cell_type": "markdown",
      "metadata": {
        "id": "DxKvFGy4liex"
      },
      "source": [
        "BASE DO MODELO"
      ]
    },
    {
      "cell_type": "code",
      "execution_count": null,
      "metadata": {
        "id": "5Kai0xr1c0FI",
        "colab": {
          "base_uri": "https://localhost:8080/",
          "height": 686
        },
        "outputId": "d70977d5-613f-4135-ec83-39c3b8acf148"
      },
      "outputs": [
        {
          "output_type": "display_data",
          "data": {
            "text/plain": [
              "<IPython.core.display.Markdown object>"
            ],
            "text/markdown": "##  ✨ Bem-vindo ao CatalogAI! ✨"
          },
          "metadata": {}
        },
        {
          "output_type": "display_data",
          "data": {
            "text/plain": [
              "<IPython.core.display.Markdown object>"
            ],
            "text/markdown": "Sou seu assistente para descobrir novos filmes 🎬, animes 🏯 e séries 📺! "
          },
          "metadata": {}
        },
        {
          "output_type": "display_data",
          "data": {
            "text/plain": [
              "<IPython.core.display.Markdown object>"
            ],
            "text/markdown": "Vou usar meu conhecimento para te recomendar títulos que combinem com o seu gosto! 🧠💡"
          },
          "metadata": {}
        },
        {
          "output_type": "display_data",
          "data": {
            "text/plain": [
              "<IPython.core.display.Markdown object>"
            ],
            "text/markdown": ""
          },
          "metadata": {}
        },
        {
          "output_type": "display_data",
          "data": {
            "text/plain": [
              "<IPython.core.display.Markdown object>"
            ],
            "text/markdown": "Conte-me sobre 5 títulos que você curte 💖 (pode ser qualquer tipo! 😄):"
          },
          "metadata": {}
        },
        {
          "output_type": "display_data",
          "data": {
            "text/plain": [
              "<IPython.core.display.Markdown object>"
            ],
            "text/markdown": ""
          },
          "metadata": {}
        },
        {
          "output_type": "display_data",
          "data": {
            "text/plain": [
              "<IPython.core.display.Markdown object>"
            ],
            "text/markdown": "### Por exemplo: "
          },
          "metadata": {}
        },
        {
          "output_type": "display_data",
          "data": {
            "text/plain": [
              "<IPython.core.display.Markdown object>"
            ],
            "text/markdown": "- Matrix"
          },
          "metadata": {}
        },
        {
          "output_type": "display_data",
          "data": {
            "text/plain": [
              "<IPython.core.display.Markdown object>"
            ],
            "text/markdown": "- Attack on Titan"
          },
          "metadata": {}
        },
        {
          "output_type": "display_data",
          "data": {
            "text/plain": [
              "<IPython.core.display.Markdown object>"
            ],
            "text/markdown": "- Stranger Things"
          },
          "metadata": {}
        },
        {
          "name": "stdout",
          "output_type": "stream",
          "text": [
            "Título 1: Blade Runner\n",
            "Título 2: Interestellar\n",
            "Título 3: Cyberpunk Edgerunners\n",
            "Título 4: Minority Report\n",
            "Título 5: Altered Carbon\n"
          ]
        },
        {
          "output_type": "display_data",
          "data": {
            "text/plain": [
              "<IPython.core.display.Markdown object>"
            ],
            "text/markdown": "Ah, então você curte Ficção Científica! 🤩 Saca só essas recomendações:"
          },
          "metadata": {}
        },
        {
          "output_type": "display_data",
          "data": {
            "text/plain": [
              "<IPython.core.display.Markdown object>"
            ],
            "text/markdown": ""
          },
          "metadata": {}
        },
        {
          "output_type": "display_data",
          "data": {
            "text/plain": [
              "<IPython.core.display.Markdown object>"
            ],
            "text/markdown": "## **Filme: A Chegada**"
          },
          "metadata": {}
        },
        {
          "output_type": "display_data",
          "data": {
            "text/plain": [
              "<IPython.core.display.Markdown object>"
            ],
            "text/markdown": "_Uma linguista é recrutada pelo exército para se comunicar com alienígenas que chegaram à Terra, enquanto ela tenta desvendar o mistério por trás da visita deles._"
          },
          "metadata": {}
        },
        {
          "output_type": "display_data",
          "data": {
            "text/plain": [
              "<IPython.core.display.Markdown object>"
            ],
            "text/markdown": "**Chances de Você Gostar:** Alta"
          },
          "metadata": {}
        },
        {
          "output_type": "display_data",
          "data": {
            "text/plain": [
              "<IPython.core.display.Markdown object>"
            ],
            "text/markdown": ""
          },
          "metadata": {}
        },
        {
          "output_type": "display_data",
          "data": {
            "text/plain": [
              "<IPython.core.display.Markdown object>"
            ],
            "text/markdown": ""
          },
          "metadata": {}
        },
        {
          "output_type": "display_data",
          "data": {
            "text/plain": [
              "<IPython.core.display.Markdown object>"
            ],
            "text/markdown": "## **Anime: Psycho-Pass**"
          },
          "metadata": {}
        },
        {
          "output_type": "display_data",
          "data": {
            "text/plain": [
              "<IPython.core.display.Markdown object>"
            ],
            "text/markdown": "_Em um futuro distópico, um sistema prevê a probabilidade de uma pessoa cometer crimes, e a polícia usa essa tecnologia para deter criminosos em potencial._"
          },
          "metadata": {}
        },
        {
          "output_type": "display_data",
          "data": {
            "text/plain": [
              "<IPython.core.display.Markdown object>"
            ],
            "text/markdown": "**Chances de Você Gostar:** Média"
          },
          "metadata": {}
        },
        {
          "output_type": "display_data",
          "data": {
            "text/plain": [
              "<IPython.core.display.Markdown object>"
            ],
            "text/markdown": ""
          },
          "metadata": {}
        },
        {
          "output_type": "display_data",
          "data": {
            "text/plain": [
              "<IPython.core.display.Markdown object>"
            ],
            "text/markdown": ""
          },
          "metadata": {}
        },
        {
          "output_type": "display_data",
          "data": {
            "text/plain": [
              "<IPython.core.display.Markdown object>"
            ],
            "text/markdown": "## **Série: The Expanse**"
          },
          "metadata": {}
        },
        {
          "output_type": "display_data",
          "data": {
            "text/plain": [
              "<IPython.core.display.Markdown object>"
            ],
            "text/markdown": "_Em um futuro onde a humanidade colonizou o sistema solar, um detetive e um capitão de nave espacial se unem para investigar uma conspiração que ameaça a paz._"
          },
          "metadata": {}
        },
        {
          "output_type": "display_data",
          "data": {
            "text/plain": [
              "<IPython.core.display.Markdown object>"
            ],
            "text/markdown": "**Chances de Você Gostar:** Alta"
          },
          "metadata": {}
        },
        {
          "output_type": "display_data",
          "data": {
            "text/plain": [
              "<IPython.core.display.Markdown object>"
            ],
            "text/markdown": ""
          },
          "metadata": {}
        }
      ],
      "source": [
        "chat = model.start_chat(history=[])\n",
        "\n",
        "# --- Interação com o usuário ---\n",
        "display(Markdown(\"##  ✨ Bem-vindo ao CatalogAI! ✨\"))\n",
        "display(Markdown(\"Sou seu assistente para descobrir novos filmes 🎬, animes 🏯 e séries 📺! \"))\n",
        "display(Markdown(\"Vou usar meu conhecimento para te recomendar títulos que combinem com o seu gosto! 🧠💡\"))\n",
        "display(Markdown(\"\"))\n",
        "display(Markdown(\"Conte-me sobre 5 títulos que você curte 💖 (pode ser qualquer tipo! 😄):\"))\n",
        "display(Markdown(\"\"))\n",
        "display(Markdown(\"### Por exemplo: \"))\n",
        "display(Markdown(\"- Matrix\"))\n",
        "display(Markdown(\"- Attack on Titan\"))\n",
        "display(Markdown(\"- Stranger Things\"))\n",
        "\n",
        "# Coleta de 5 títulos\n",
        "titulos = []\n",
        "for i in range(5):\n",
        "    titulo = input(f\"Título {i+1}: \")\n",
        "    titulos.append(titulo)\n",
        "\n",
        "# --- Identificação do gênero ---\n",
        "prompt_genero = f\"Títulos: {', '.join(titulos)}\\nGênero: \"\n",
        "response_genero = chat.send_message(identificar_genero_instruction + prompt_genero)\n",
        "genero = response_genero.text.strip()\n",
        "\n",
        "# --- Interação personalizada ---\n",
        "display(Markdown(f\"Ah, então você curte {genero}! 🤩 Saca só essas recomendações:\"))\n",
        "\n",
        "# --- Loop de recomendações ---\n",
        "while True:\n",
        "    # --- Recomendações ---\n",
        "    prompt_recomendacoes = f\"Informação: {', '.join(titulos)}.\\nResposta:\\n\"\n",
        "    response_recomendacoes = chat.send_message(recomendar_instruction + prompt_recomendacoes)\n",
        "\n",
        "    # --- Processamento e exibição da resposta ---\n",
        "    try:\n",
        "        recomendacoes = response_recomendacoes.text.strip().split(\"===\")\n",
        "\n",
        "        for recomendacao in recomendacoes:\n",
        "            if recomendacao.strip():  # Ignora blocos vazios\n",
        "                linhas = recomendacao.strip().split(\"\\n\")\n",
        "                tipo = linhas[0].split(\":\")[1].strip()\n",
        "                titulo = linhas[1].split(\":\")[1].strip()\n",
        "                sinopse = linhas[2].split(\":\")[1].strip()\n",
        "                chances = linhas[3].split(\":\")[1].strip()\n",
        "\n",
        "                display(Markdown(f\"\"))\n",
        "                display(Markdown(f\"## **{tipo}: {titulo}**\"))\n",
        "                display(Markdown(f\"_{sinopse}_\"))\n",
        "                display(Markdown(f\"**Chances de Você Gostar:** {chances}\"))\n",
        "                display(Markdown(f\"\"))\n",
        "\n",
        "    except Exception as e:\n",
        "        print(f\"Erro ao processar a resposta: {e}\")\n",
        "\n",
        "    # --- Perguntar ao usuário se deseja outra recomendação ---\n",
        "    outra_recomendacao = input(\"Deseja outra recomendação? (s/n): \").lower()\n",
        "    if outra_recomendacao != 's':\n",
        "        break"
      ]
    },
    {
      "cell_type": "code",
      "source": [],
      "metadata": {
        "id": "P6Da7RSe7-Dn"
      },
      "execution_count": null,
      "outputs": []
    }
  ],
  "metadata": {
    "colab": {
      "provenance": [],
      "authorship_tag": "ABX9TyPymt/qmJ/7fT6PWkSr/bGo",
      "include_colab_link": true
    },
    "kernelspec": {
      "display_name": "Python 3",
      "name": "python3"
    },
    "language_info": {
      "name": "python"
    }
  },
  "nbformat": 4,
  "nbformat_minor": 0
}